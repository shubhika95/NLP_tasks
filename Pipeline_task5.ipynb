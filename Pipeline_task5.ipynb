{
  "nbformat": 4,
  "nbformat_minor": 0,
  "metadata": {
    "colab": {
      "name": "Untitled0.ipynb",
      "version": "0.3.2",
      "provenance": [],
      "include_colab_link": true
    },
    "kernelspec": {
      "name": "python3",
      "display_name": "Python 3"
    }
  },
  "cells": [
    {
      "cell_type": "markdown",
      "metadata": {
        "id": "view-in-github",
        "colab_type": "text"
      },
      "source": [
        "<a href=\"https://colab.research.google.com/github/shubhika95/NLP_tasks/blob/master/Pipeline_task5.ipynb\" target=\"_parent\"><img src=\"https://colab.research.google.com/assets/colab-badge.svg\" alt=\"Open In Colab\"/></a>"
      ]
    },
    {
      "metadata": {
        "id": "heD13MHKXMCu",
        "colab_type": "code",
        "colab": {
          "base_uri": "https://localhost:8080/",
          "height": 190
        },
        "outputId": "5ab5c0a6-4579-4c11-82c1-9f4e10b36080"
      },
      "cell_type": "code",
      "source": [
        "import nltk\n",
        "nltk.download('punkt')\n",
        "nltk.download('averaged_perceptron_tagger')\n",
        "\n",
        "texts = [\"\"\"Biomedical text mining refers to the methods and study of how text mining may be applied to texts and literature of the biomedical and molecular biology domains. As a field of research, biomedical text mining incorporates ideas from natural language processing, bioinformatics, medical informatics and computational linguistics. The strategies developed through studies in this field are frequently applied to the biomedical and molecular biology literature available through services such as PubMed.\"\"\"]\n",
        "\n",
        "for text in texts:\n",
        "    sentences = nltk.sent_tokenize(text)\n",
        "    for sentence in sentences:\n",
        "        words = nltk.word_tokenize(sentence)\n",
        "        tagged_words = nltk.pos_tag(words)\n",
        "        print(tagged_words)"
      ],
      "execution_count": 2,
      "outputs": [
        {
          "output_type": "stream",
          "text": [
            "[nltk_data] Downloading package punkt to /root/nltk_data...\n",
            "[nltk_data]   Package punkt is already up-to-date!\n",
            "[nltk_data] Downloading package averaged_perceptron_tagger to\n",
            "[nltk_data]     /root/nltk_data...\n",
            "[nltk_data]   Package averaged_perceptron_tagger is already up-to-\n",
            "[nltk_data]       date!\n",
            "[('Biomedical', 'JJ'), ('text', 'NN'), ('mining', 'NN'), ('refers', 'NNS'), ('to', 'TO'), ('the', 'DT'), ('methods', 'NNS'), ('and', 'CC'), ('study', 'NN'), ('of', 'IN'), ('how', 'WRB'), ('text', 'JJ'), ('mining', 'NN'), ('may', 'MD'), ('be', 'VB'), ('applied', 'VBN'), ('to', 'TO'), ('texts', 'VB'), ('and', 'CC'), ('literature', 'NN'), ('of', 'IN'), ('the', 'DT'), ('biomedical', 'JJ'), ('and', 'CC'), ('molecular', 'JJ'), ('biology', 'NN'), ('domains', 'NNS'), ('.', '.')]\n",
            "[('As', 'IN'), ('a', 'DT'), ('field', 'NN'), ('of', 'IN'), ('research', 'NN'), (',', ','), ('biomedical', 'JJ'), ('text', 'NN'), ('mining', 'NN'), ('incorporates', 'NNS'), ('ideas', 'VBP'), ('from', 'IN'), ('natural', 'JJ'), ('language', 'NN'), ('processing', 'NN'), (',', ','), ('bioinformatics', 'NNS'), (',', ','), ('medical', 'JJ'), ('informatics', 'NNS'), ('and', 'CC'), ('computational', 'JJ'), ('linguistics', 'NNS'), ('.', '.')]\n",
            "[('The', 'DT'), ('strategies', 'NNS'), ('developed', 'VBD'), ('through', 'IN'), ('studies', 'NNS'), ('in', 'IN'), ('this', 'DT'), ('field', 'NN'), ('are', 'VBP'), ('frequently', 'RB'), ('applied', 'VBN'), ('to', 'TO'), ('the', 'DT'), ('biomedical', 'JJ'), ('and', 'CC'), ('molecular', 'JJ'), ('biology', 'NN'), ('literature', 'NN'), ('available', 'JJ'), ('through', 'IN'), ('services', 'NNS'), ('such', 'JJ'), ('as', 'IN'), ('PubMed', 'NNP'), ('.', '.')]\n"
          ],
          "name": "stdout"
        }
      ]
    }
  ]
}