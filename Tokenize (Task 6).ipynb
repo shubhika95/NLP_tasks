{
  "nbformat": 4,
  "nbformat_minor": 0,
  "metadata": {
    "colab": {
      "name": "Untitled6.ipynb",
      "version": "0.3.2",
      "provenance": [],
      "include_colab_link": true
    },
    "kernelspec": {
      "name": "python3",
      "display_name": "Python 3"
    }
  },
  "cells": [
    {
      "cell_type": "markdown",
      "metadata": {
        "id": "view-in-github",
        "colab_type": "text"
      },
      "source": [
        "<a href=\"https://colab.research.google.com/github/shubhika95/NLP_tasks/blob/master/Tokenize%20(Task%206).ipynb\" target=\"_parent\"><img src=\"https://colab.research.google.com/assets/colab-badge.svg\" alt=\"Open In Colab\"/></a>"
      ]
    },
    {
      "metadata": {
        "id": "1Au1fPopdCMu",
        "colab_type": "code",
        "colab": {
          "base_uri": "https://localhost:8080/",
          "height": 204
        },
        "outputId": "84823dcf-39db-45ac-948f-fa9c33f91f2e"
      },
      "cell_type": "code",
      "source": [
        "import nltk\n",
        "from nltk.tokenize import TweetTokenizer\n",
        "text = ' Water your brains with books, it helps them grow.'\n",
        "twtkn = TweetTokenizer()\n",
        "twtkn.tokenize(text)"
      ],
      "execution_count": 2,
      "outputs": [
        {
          "output_type": "execute_result",
          "data": {
            "text/plain": [
              "['Water',\n",
              " 'your',\n",
              " 'brains',\n",
              " 'with',\n",
              " 'books',\n",
              " ',',\n",
              " 'it',\n",
              " 'helps',\n",
              " 'them',\n",
              " 'grow',\n",
              " '.']"
            ]
          },
          "metadata": {
            "tags": []
          },
          "execution_count": 2
        }
      ]
    }
  ]
}