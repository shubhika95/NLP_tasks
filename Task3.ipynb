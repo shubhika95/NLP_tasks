{
  "nbformat": 4,
  "nbformat_minor": 0,
  "metadata": {
    "colab": {
      "name": "Untitled4.ipynb",
      "version": "0.3.2",
      "provenance": [],
      "include_colab_link": true
    },
    "kernelspec": {
      "name": "python3",
      "display_name": "Python 3"
    }
  },
  "cells": [
    {
      "cell_type": "markdown",
      "metadata": {
        "id": "view-in-github",
        "colab_type": "text"
      },
      "source": [
        "<a href=\"https://colab.research.google.com/github/shubhika95/NLP_tasks/blob/master/Task3.ipynb\" target=\"_parent\"><img src=\"https://colab.research.google.com/assets/colab-badge.svg\" alt=\"Open In Colab\"/></a>"
      ]
    },
    {
      "metadata": {
        "id": "tkesOxhmZ24N",
        "colab_type": "code",
        "colab": {
          "base_uri": "https://localhost:8080/",
          "height": 476
        },
        "outputId": "89f0f117-d849-4baf-a397-de5a23158890"
      },
      "cell_type": "code",
      "source": [
        "import nltk\n",
        "nltk.download('cmudict')\n",
        "entries = nltk.corpus.cmudict.entries()\n",
        "len(entries)\n",
        "for entry in entries[10000:10025]:\n",
        "    print(entry)"
      ],
      "execution_count": 1,
      "outputs": [
        {
          "output_type": "stream",
          "text": [
            "[nltk_data] Downloading package cmudict to /root/nltk_data...\n",
            "[nltk_data]   Unzipping corpora/cmudict.zip.\n",
            "('belford', ['B', 'EH1', 'L', 'F', 'ER0', 'D'])\n",
            "('belfry', ['B', 'EH1', 'L', 'F', 'R', 'IY0'])\n",
            "('belgacom', ['B', 'EH1', 'L', 'G', 'AH0', 'K', 'AA0', 'M'])\n",
            "('belgacom', ['B', 'EH1', 'L', 'JH', 'AH0', 'K', 'AA0', 'M'])\n",
            "('belgard', ['B', 'EH0', 'L', 'G', 'AA1', 'R', 'D'])\n",
            "('belgarde', ['B', 'EH0', 'L', 'G', 'AA1', 'R', 'D', 'IY0'])\n",
            "('belge', ['B', 'EH1', 'L', 'JH', 'IY0'])\n",
            "('belger', ['B', 'EH1', 'L', 'G', 'ER0'])\n",
            "('belgian', ['B', 'EH1', 'L', 'JH', 'AH0', 'N'])\n",
            "('belgians', ['B', 'EH1', 'L', 'JH', 'AH0', 'N', 'Z'])\n",
            "('belgique', ['B', 'EH0', 'L', 'ZH', 'IY1', 'K'])\n",
            "(\"belgique's\", ['B', 'EH0', 'L', 'JH', 'IY1', 'K', 'S'])\n",
            "('belgium', ['B', 'EH1', 'L', 'JH', 'AH0', 'M'])\n",
            "(\"belgium's\", ['B', 'EH1', 'L', 'JH', 'AH0', 'M', 'Z'])\n",
            "('belgo', ['B', 'EH1', 'L', 'G', 'OW2'])\n",
            "('belgrade', ['B', 'EH1', 'L', 'G', 'R', 'EY0', 'D'])\n",
            "('belgrade', ['B', 'EH1', 'L', 'G', 'R', 'AA2', 'D'])\n",
            "(\"belgrade's\", ['B', 'EH1', 'L', 'G', 'R', 'EY0', 'D', 'Z'])\n",
            "(\"belgrade's\", ['B', 'EH1', 'L', 'G', 'R', 'AA2', 'D', 'Z'])\n",
            "('belgrave', ['B', 'EH1', 'L', 'G', 'R', 'EY2', 'V'])\n",
            "('beli', ['B', 'EH1', 'L', 'IY0'])\n",
            "('belich', ['B', 'EH1', 'L', 'IH0', 'K'])\n",
            "('belie', ['B', 'IH0', 'L', 'AY1'])\n",
            "('belied', ['B', 'IH0', 'L', 'AY1', 'D'])\n",
            "('belief', ['B', 'IH0', 'L', 'IY1', 'F'])\n"
          ],
          "name": "stdout"
        }
      ]
    }
  ]
}